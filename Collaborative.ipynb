{
 "cells": [
  {
   "cell_type": "code",
   "execution_count": 1,
   "metadata": {
    "collapsed": true
   },
   "outputs": [],
   "source": [
    "import pandas as pd\n",
    "import numpy as np\n",
    "from sklearn.feature_extraction.text import CountVectorizer\n",
    "from collections import Counter\n",
    "from scipy.sparse import hstack\n",
    "from scipy.sparse import csr_matrix\n",
    "from sklearn.metrics.pairwise import pairwise_distances\n",
    "from math import log, sqrt"
   ]
  },
  {
   "cell_type": "code",
   "execution_count": 2,
   "metadata": {
    "collapsed": false
   },
   "outputs": [],
   "source": [
    "df = pd.read_csv('../../think_data/user_data.csv')"
   ]
  },
  {
   "cell_type": "code",
   "execution_count": 3,
   "metadata": {
    "collapsed": true
   },
   "outputs": [],
   "source": [
    "patterns_df = pd.read_csv('../../think_data/patterns_data.csv')\n",
    "patterns_df.index = patterns_df.pattern_id"
   ]
  },
  {
   "cell_type": "code",
   "execution_count": 4,
   "metadata": {
    "collapsed": false
   },
   "outputs": [
    {
     "data": {
      "text/plain": [
       "3756714"
      ]
     },
     "execution_count": 4,
     "metadata": {},
     "output_type": "execute_result"
    }
   ],
   "source": [
    "len(df)"
   ]
  },
  {
   "cell_type": "code",
   "execution_count": 5,
   "metadata": {
    "collapsed": false
   },
   "outputs": [],
   "source": [
    "counts = df.groupby('pattern_id')['user_id'].count()"
   ]
  },
  {
   "cell_type": "code",
   "execution_count": 6,
   "metadata": {
    "collapsed": false
   },
   "outputs": [],
   "source": [
    "filtered_df = df[df.pattern_id.map(counts) >= 5]"
   ]
  },
  {
   "cell_type": "code",
   "execution_count": 7,
   "metadata": {
    "collapsed": true
   },
   "outputs": [],
   "source": [
    "from sklearn.feature_extraction.text import TfidfTransformer\n",
    "\n",
    "def make_matrix(df):\n",
    "    users = list(df.user_id.unique())\n",
    "    products = list(df.pattern_id.unique())\n",
    "    data = np.ones(len(df))\n",
    "    col = df.user_id.astype('category', categories=users).cat.codes\n",
    "    row = df.pattern_id.astype('category', categories=products).cat.codes\n",
    "    N = len(users)\n",
    "    #idf = [1. + log(N / (1. + p)) for p in df.groupby('user_id').size()]\n",
    "    #weighted = [sqrt(hits) * idf[userid] for hits, userid in zip(data, col)]\n",
    "    \n",
    "    return csr_matrix((data, (row, col)), shape=(len(products), len(users))), products"
   ]
  },
  {
   "cell_type": "code",
   "execution_count": null,
   "metadata": {
    "collapsed": false
   },
   "outputs": [],
   "source": []
  },
  {
   "cell_type": "code",
   "execution_count": 8,
   "metadata": {
    "collapsed": false
   },
   "outputs": [],
   "source": [
    "transformer = TfidfTransformer()\n",
    "\n",
    "matrix, products = make_matrix(filtered_df)\n",
    "matrix = transformer.fit_transform(matrix)"
   ]
  },
  {
   "cell_type": "code",
   "execution_count": 9,
   "metadata": {
    "collapsed": false
   },
   "outputs": [],
   "source": [
    "import cPickle as pickle\n",
    "import gzip\n",
    "\n",
    "f = gzip.open('product_list.pklz','wb')\n",
    "pickle.dump(products,f)\n",
    "f.close()"
   ]
  },
  {
   "cell_type": "code",
   "execution_count": 9,
   "metadata": {
    "collapsed": false
   },
   "outputs": [
    {
     "data": {
      "text/plain": [
       "(148797, 17393)"
      ]
     },
     "execution_count": 9,
     "metadata": {},
     "output_type": "execute_result"
    }
   ],
   "source": [
    "matrix.shape"
   ]
  },
  {
   "cell_type": "code",
   "execution_count": 10,
   "metadata": {
    "collapsed": true
   },
   "outputs": [],
   "source": [
    "from sklearn.decomposition import TruncatedSVD"
   ]
  },
  {
   "cell_type": "code",
   "execution_count": 38,
   "metadata": {
    "collapsed": true
   },
   "outputs": [],
   "source": [
    "shrinky = TruncatedSVD(35)"
   ]
  },
  {
   "cell_type": "code",
   "execution_count": 39,
   "metadata": {
    "collapsed": true
   },
   "outputs": [],
   "source": [
    "shrunk = shrinky.fit_transform(matrix)"
   ]
  },
  {
   "cell_type": "code",
   "execution_count": 40,
   "metadata": {
    "collapsed": false
   },
   "outputs": [],
   "source": [
    "pattern_names = patterns_df.permalink\n",
    "pattern_names.index = patterns_df.pattern_id"
   ]
  },
  {
   "cell_type": "code",
   "execution_count": 41,
   "metadata": {
    "collapsed": false
   },
   "outputs": [
    {
     "name": "stderr",
     "output_type": "stream",
     "text": [
      "/Library/Frameworks/Python.framework/Versions/2.7/lib/python2.7/site-packages/sklearn/utils/validation.py:395: DeprecationWarning: Passing 1d arrays as data is deprecated in 0.17 and will raise ValueError in 0.19. Reshape your data either using X.reshape(-1, 1) if your data has a single feature or X.reshape(1, -1) if it contains a single sample.\n",
      "  DeprecationWarning)\n"
     ]
    }
   ],
   "source": [
    "target = products.index(pattern_names[pattern_names =='mr-dangly'].index[0])\n",
    "similars = [products[n] for n in pd.Series([i[0] for i in \\\n",
    "                                            pairwise_distances(shrunk, shrunk[target], metric='cosine')]).argsort()[:10].values]"
   ]
  },
  {
   "cell_type": "code",
   "execution_count": 42,
   "metadata": {
    "collapsed": false
   },
   "outputs": [
    {
     "data": {
      "text/plain": [
       "['mr-dangly',\n",
       " 'socktopus',\n",
       " 'owlsocks',\n",
       " 'cthulhuclava',\n",
       " 'sensible-socks',\n",
       " 'jacques-crusteau',\n",
       " 'praying-mantis',\n",
       " 'robosocks',\n",
       " 'felted-knit-shroomy',\n",
       " 'loch-ness-monster']"
      ]
     },
     "execution_count": 42,
     "metadata": {},
     "output_type": "execute_result"
    }
   ],
   "source": [
    "[pattern_names[i] for i in similars]"
   ]
  },
  {
   "cell_type": "code",
   "execution_count": 43,
   "metadata": {
    "collapsed": false
   },
   "outputs": [
    {
     "name": "stdout",
     "output_type": "stream",
     "text": [
      "loading patterns\n"
     ]
    }
   ],
   "source": [
    "import urllib\n",
    "import StringIO\n",
    "import gzip\n",
    "import cPickle as pickle\n",
    "\n",
    "def load_compressed_pickled_object(file_url):\n",
    "\topener = urllib.URLopener()\n",
    "\tmyfile = opener.open(file_url)\n",
    "\tcompressed_string = myfile.read()\n",
    "\tcompressedFile = StringIO.StringIO(compressed_string)\n",
    "\tdecompressedFile = gzip.GzipFile(fileobj=compressedFile)\n",
    "\tloaded_object = pickle.load(decompressedFile)\n",
    "\treturn loaded_object\n",
    "\n",
    "pattern_names_url = 'https://s3.amazonaws.com/ravelry-data/pattern_names.pklz'\n",
    "print 'loading patterns'\n",
    "pattern_names = load_compressed_pickled_object(pattern_names_url)"
   ]
  },
  {
   "cell_type": "code",
   "execution_count": 20,
   "metadata": {
    "collapsed": false
   },
   "outputs": [
    {
     "data": {
      "text/plain": [
       "18.665023335059495"
      ]
     },
     "execution_count": 20,
     "metadata": {},
     "output_type": "execute_result"
    }
   ],
   "source": [
    "matrix[161395].toarray()"
   ]
  },
  {
   "cell_type": "code",
   "execution_count": null,
   "metadata": {
    "collapsed": true
   },
   "outputs": [],
   "source": []
  }
 ],
 "metadata": {
  "kernelspec": {
   "display_name": "Python 2",
   "language": "python",
   "name": "python2"
  },
  "language_info": {
   "codemirror_mode": {
    "name": "ipython",
    "version": 2
   },
   "file_extension": ".py",
   "mimetype": "text/x-python",
   "name": "python",
   "nbconvert_exporter": "python",
   "pygments_lexer": "ipython2",
   "version": "2.7.9"
  }
 },
 "nbformat": 4,
 "nbformat_minor": 0
}
