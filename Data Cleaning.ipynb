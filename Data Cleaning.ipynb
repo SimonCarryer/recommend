{
 "cells": [
  {
   "cell_type": "code",
   "execution_count": 57,
   "metadata": {
    "collapsed": true
   },
   "outputs": [],
   "source": [
    "import pandas as pd"
   ]
  },
  {
   "cell_type": "code",
   "execution_count": 75,
   "metadata": {
    "collapsed": false
   },
   "outputs": [],
   "source": [
    "pattern_dfs = []\n",
    "\n",
    "for i in range(1, 6):\n",
    "    df = pd.read_csv('../../think_data/pattern_data_%d.csv' % i, header=None)\n",
    "    pattern_dfs.append(df)\n",
    "    df = pd.read_csv('../../think_data/pattern_data_%da.csv' % i, header=None)\n",
    "    pattern_dfs.append(df)\n",
    "    \n",
    "patterns_data = pd.concat(pattern_dfs)"
   ]
  },
  {
   "cell_type": "code",
   "execution_count": 72,
   "metadata": {
    "collapsed": false
   },
   "outputs": [
    {
     "data": {
      "text/plain": [
       "590376"
      ]
     },
     "execution_count": 72,
     "metadata": {},
     "output_type": "execute_result"
    }
   ],
   "source": [
    "len(patterns_data)"
   ]
  },
  {
   "cell_type": "code",
   "execution_count": 85,
   "metadata": {
    "collapsed": false
   },
   "outputs": [],
   "source": [
    "patterns_data.columns = ['pattern_id', 'keywords', 'category', 'difficulty', \\\n",
    "                         'permalink', 'difficulty_average', 'gauge_divisor', \\\n",
    "                         'gauge', 'row_gauge', 'gauge_pattern', 'yardage', \\\n",
    "                        'ply', 'craft']\n",
    "patterns_data = patterns_data.drop_duplicates(subset='pattern_id')\n",
    "patterns_data.index = range(len(patterns_data))\n"
   ]
  },
  {
   "cell_type": "code",
   "execution_count": 86,
   "metadata": {
    "collapsed": false
   },
   "outputs": [
    {
     "data": {
      "text/plain": [
       "1    409986\n",
       "0       131\n",
       "Name: keywords, dtype: int64"
      ]
     },
     "execution_count": 86,
     "metadata": {},
     "output_type": "execute_result"
    }
   ],
   "source": [
    "patterns_data.groupby('pattern_id').count()['keywords'].value_counts()"
   ]
  },
  {
   "cell_type": "code",
   "execution_count": 87,
   "metadata": {
    "collapsed": false
   },
   "outputs": [
    {
     "data": {
      "text/plain": [
       "410117"
      ]
     },
     "execution_count": 87,
     "metadata": {},
     "output_type": "execute_result"
    }
   ],
   "source": [
    "len(patterns_data)"
   ]
  },
  {
   "cell_type": "code",
   "execution_count": 88,
   "metadata": {
    "collapsed": true
   },
   "outputs": [],
   "source": [
    "patterns_data.to_csv('../../think_data/patterns_data.csv', index=False)"
   ]
  },
  {
   "cell_type": "code",
   "execution_count": 10,
   "metadata": {
    "collapsed": false
   },
   "outputs": [
    {
     "name": "stderr",
     "output_type": "stream",
     "text": [
      "Skipping line 111035: expected 3 fields, saw 5\n",
      "Skipping line 127603: expected 3 fields, saw 5\n",
      "Skipping line 195106: expected 3 fields, saw 5\n",
      "\n",
      "Skipping line 118155: expected 3 fields, saw 5\n",
      "Skipping line 118891: expected 3 fields, saw 5\n",
      "Skipping line 139236: expected 3 fields, saw 5\n",
      "Skipping line 167451: expected 3 fields, saw 5\n",
      "\n",
      "Skipping line 63497: expected 3 fields, saw 5\n",
      "Skipping line 105786: expected 3 fields, saw 5\n",
      "Skipping line 106607: expected 3 fields, saw 5\n",
      "Skipping line 143698: expected 3 fields, saw 5\n",
      "Skipping line 181732: expected 3 fields, saw 5\n",
      "\n"
     ]
    }
   ],
   "source": [
    "user_dfs = []\n",
    "\n",
    "for i in range(1, 4):\n",
    "    df = pd.read_csv('user_faves_abc_%d.csv' % i, header=None, error_bad_lines=False)\n",
    "    user_dfs.append(df)\n",
    "    \n",
    "for i in range(5, 11):\n",
    "    df = pd.read_csv('user_faves_abc_%d.csv' % i, header=None, error_bad_lines=False)\n",
    "    user_dfs.append(df)\n",
    "    \n",
    "df = pd.read_csv('user_faves_abc.csv', header=None, error_bad_lines=False)\n",
    "user_dfs.append(df)\n",
    "    \n",
    "user_data = pd.concat(user_dfs)"
   ]
  },
  {
   "cell_type": "code",
   "execution_count": 21,
   "metadata": {
    "collapsed": false
   },
   "outputs": [],
   "source": [
    "user_data.columns = ['user_id', 'pattern_id', 'fave_date']\n",
    "user_data = user_data.dropna()\n",
    "user_data.index = range(len(user_data))\n",
    "user_data.pattern_id = user_data.pattern_id.astype('int')\n",
    "user_data.to_csv('user_data.csv', index=False)"
   ]
  },
  {
   "cell_type": "code",
   "execution_count": 18,
   "metadata": {
    "collapsed": false
   },
   "outputs": [
    {
     "data": {
      "text/html": [
       "<div>\n",
       "<table border=\"1\" class=\"dataframe\">\n",
       "  <thead>\n",
       "    <tr style=\"text-align: right;\">\n",
       "      <th></th>\n",
       "      <th>user_id</th>\n",
       "      <th>pattern_id</th>\n",
       "      <th>fave_date</th>\n",
       "    </tr>\n",
       "  </thead>\n",
       "  <tbody>\n",
       "    <tr>\n",
       "      <th>0</th>\n",
       "      <td>Crocheturlay</td>\n",
       "      <td>720780</td>\n",
       "      <td>2017/02/19 15:08:49 -0500</td>\n",
       "    </tr>\n",
       "    <tr>\n",
       "      <th>1</th>\n",
       "      <td>cozykrisknits</td>\n",
       "      <td>393166</td>\n",
       "      <td>2014/12/25 14:31:01 -0500</td>\n",
       "    </tr>\n",
       "    <tr>\n",
       "      <th>2</th>\n",
       "      <td>cozykrisknits</td>\n",
       "      <td>447781</td>\n",
       "      <td>2014/12/25 14:29:06 -0500</td>\n",
       "    </tr>\n",
       "    <tr>\n",
       "      <th>3</th>\n",
       "      <td>cozykrisknits</td>\n",
       "      <td>117296</td>\n",
       "      <td>2013/01/07 22:42:44 -0500</td>\n",
       "    </tr>\n",
       "    <tr>\n",
       "      <th>4</th>\n",
       "      <td>cozykrisknits</td>\n",
       "      <td>224811</td>\n",
       "      <td>2013/01/07 22:39:07 -0500</td>\n",
       "    </tr>\n",
       "  </tbody>\n",
       "</table>\n",
       "</div>"
      ],
      "text/plain": [
       "         user_id  pattern_id                  fave_date\n",
       "0   Crocheturlay      720780  2017/02/19 15:08:49 -0500\n",
       "1  cozykrisknits      393166  2014/12/25 14:31:01 -0500\n",
       "2  cozykrisknits      447781  2014/12/25 14:29:06 -0500\n",
       "3  cozykrisknits      117296  2013/01/07 22:42:44 -0500\n",
       "4  cozykrisknits      224811  2013/01/07 22:39:07 -0500"
      ]
     },
     "execution_count": 18,
     "metadata": {},
     "output_type": "execute_result"
    }
   ],
   "source": [
    "user_data.head()"
   ]
  },
  {
   "cell_type": "code",
   "execution_count": null,
   "metadata": {
    "collapsed": true
   },
   "outputs": [],
   "source": []
  }
 ],
 "metadata": {
  "kernelspec": {
   "display_name": "Python 2",
   "language": "python",
   "name": "python2"
  },
  "language_info": {
   "codemirror_mode": {
    "name": "ipython",
    "version": 2
   },
   "file_extension": ".py",
   "mimetype": "text/x-python",
   "name": "python",
   "nbconvert_exporter": "python",
   "pygments_lexer": "ipython2",
   "version": "2.7.9"
  }
 },
 "nbformat": 4,
 "nbformat_minor": 0
}
