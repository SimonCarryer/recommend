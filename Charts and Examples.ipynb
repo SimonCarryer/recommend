{
 "cells": [
  {
   "cell_type": "code",
   "execution_count": 1,
   "metadata": {},
   "outputs": [],
   "source": [
    "import pandas as pd\n",
    "import numpy as np\n",
    "import matplotlib.pyplot as plt\n",
    "from sklearn.metrics.pairwise import pairwise_distances\n",
    "\n",
    "% matplotlib inline"
   ]
  },
  {
   "cell_type": "code",
   "execution_count": 2,
   "metadata": {},
   "outputs": [],
   "source": [
    "data = [{'name': 'Mr. Dangly', 'difficulty': 2, 'animal': 1},\n",
    "        {'name': '\"Mr. Tricky\"', 'difficulty': 3, 'animal': 1},\n",
    "        {'name': '\"Easy Jumper\"', 'difficulty': 2, 'animal': 0},\n",
    "       {'name': '\"Tricky Gloves\"', 'difficulty': 3, 'animal': 0}]\n",
    "\n",
    "df = pd.DataFrame(data)"
   ]
  },
  {
   "cell_type": "code",
   "execution_count": 3,
   "metadata": {},
   "outputs": [
    {
     "data": {
      "text/html": [
       "<div>\n",
       "<style scoped>\n",
       "    .dataframe tbody tr th:only-of-type {\n",
       "        vertical-align: middle;\n",
       "    }\n",
       "\n",
       "    .dataframe tbody tr th {\n",
       "        vertical-align: top;\n",
       "    }\n",
       "\n",
       "    .dataframe thead th {\n",
       "        text-align: right;\n",
       "    }\n",
       "</style>\n",
       "<table border=\"1\" class=\"dataframe\">\n",
       "  <thead>\n",
       "    <tr style=\"text-align: right;\">\n",
       "      <th></th>\n",
       "      <th>animal</th>\n",
       "      <th>difficulty</th>\n",
       "      <th>name</th>\n",
       "    </tr>\n",
       "  </thead>\n",
       "  <tbody>\n",
       "    <tr>\n",
       "      <th>0</th>\n",
       "      <td>1</td>\n",
       "      <td>2</td>\n",
       "      <td>Mr. Dangly</td>\n",
       "    </tr>\n",
       "    <tr>\n",
       "      <th>1</th>\n",
       "      <td>1</td>\n",
       "      <td>3</td>\n",
       "      <td>\"Mr. Tricky\"</td>\n",
       "    </tr>\n",
       "    <tr>\n",
       "      <th>2</th>\n",
       "      <td>0</td>\n",
       "      <td>2</td>\n",
       "      <td>\"Easy Jumper\"</td>\n",
       "    </tr>\n",
       "    <tr>\n",
       "      <th>3</th>\n",
       "      <td>0</td>\n",
       "      <td>3</td>\n",
       "      <td>\"Tricky Gloves\"</td>\n",
       "    </tr>\n",
       "  </tbody>\n",
       "</table>\n",
       "</div>"
      ],
      "text/plain": [
       "   animal  difficulty             name\n",
       "0       1           2       Mr. Dangly\n",
       "1       1           3     \"Mr. Tricky\"\n",
       "2       0           2    \"Easy Jumper\"\n",
       "3       0           3  \"Tricky Gloves\""
      ]
     },
     "execution_count": 3,
     "metadata": {},
     "output_type": "execute_result"
    }
   ],
   "source": [
    "df"
   ]
  },
  {
   "cell_type": "code",
   "execution_count": 4,
   "metadata": {},
   "outputs": [
    {
     "name": "stdout",
     "output_type": "stream",
     "text": [
      "Mr. Dangly 2 1\n",
      "\"Mr. Tricky\" 3 1\n",
      "\"Easy Jumper\" 2 0\n",
      "\"Tricky Gloves\" 3 0\n"
     ]
    }
   ],
   "source": [
    "for name, y, x in [i.values() for i in data]:\n",
    "    print (name, x, y)"
   ]
  },
  {
   "cell_type": "code",
   "execution_count": 7,
   "metadata": {},
   "outputs": [
    {
     "data": {
      "image/png": "[encoded data removed]",
      "text/plain": [
       "<Figure size 360x360 with 1 Axes>"
      ]
     },
     "metadata": {
      "needs_background": "light"
     },
     "output_type": "display_data"
    }
   ],
   "source": [
    "df.plot(kind='scatter', x='animal', y='difficulty', figsize=(5,5))\n",
    "axes = plt.gca()\n",
    "\n",
    "axes.set_xlim([-0.5,1.5])\n",
    "plt.xticks([-0.5, 0, 0.5, 1, 1.5], ['', '0 (No)', '', '1 (Yes)', ''])\n",
    "plt.xlabel('Is it a stuffed animal?')\n",
    "\n",
    "axes.set_ylim([1.5,3.5])\n",
    "plt.yticks([i/2 for i in range(4, 8)])\n",
    "plt.ylabel('Difficulty')\n",
    "\n",
    "for i in [(-0.85, 0), (-0.9, 0.9), (0, 0.85)]:\n",
    "    plt.arrow(1, 2, i[0], i[1],\n",
    "             head_width=0.05, \n",
    "              head_length=0.1, \n",
    "              fc='k', \n",
    "              ec='k',\n",
    "              linestyle=':')\n",
    "\n",
    "for name, y, x in [i.values() for i in data]:\n",
    "    plt.annotate(name, xy=(x - 0.1, y + 0.1))\n",
    "    \n",
    "for name, y, x in [i.values() for i in data][1:]:\n",
    "    origin = np.array([(1, 2)]).reshape(1, -1)\n",
    "    distance = pairwise_distances(origin, np.array([(x, y)]).reshape(1, -1), 'euclidean')[0][0]\n",
    "    distance_string = 'd=%.2f' % round(distance, 2)\n",
    "    plt.annotate(distance_string, xy=((x + 1.1)/2, (y + 2.1)/2))\n",
    "\n",
    "plt.savefig('distances.png')\n",
    "plt.show()"
   ]
  },
  {
   "cell_type": "code",
   "execution_count": null,
   "metadata": {},
   "outputs": [],
   "source": []
  }
 ],
 "metadata": {
  "kernelspec": {
   "display_name": "Python 3",
   "language": "python",
   "name": "python3"
  },
  "language_info": {
   "codemirror_mode": {
    "name": "ipython",
    "version": 3
   },
   "file_extension": ".py",
   "mimetype": "text/x-python",
   "name": "python",
   "nbconvert_exporter": "python",
   "pygments_lexer": "ipython3",
   "version": "3.7.0"
  }
 },
 "nbformat": 4,
 "nbformat_minor": 1
}
