{
 "cells": [
  {
   "cell_type": "code",
   "execution_count": 1,
   "metadata": {
    "collapsed": true
   },
   "outputs": [],
   "source": [
    "import pandas as pd\n",
    "from copy import deepcopy\n",
    "\n",
    "from collections import Counter\n",
    "from scipy.sparse import hstack\n",
    "from scipy.sparse import csr_matrix\n",
    "from sklearn.metrics.pairwise import pairwise_distances"
   ]
  },
  {
   "cell_type": "code",
   "execution_count": 3,
   "metadata": {
    "collapsed": true
   },
   "outputs": [],
   "source": [
    "df = pd.read_csv('../think_data/patterns_data.csv')"
   ]
  },
  {
   "cell_type": "code",
   "execution_count": 22,
   "metadata": {
    "collapsed": true
   },
   "outputs": [],
   "source": [
    "likes_df = pd.read_csv('../think_data/user_data.csv')\n",
    "counts = likes_df.groupby('pattern_id')['user_id'].count()\n",
    "filtered_df = df[df.pattern_id.map(counts) >= 5]"
   ]
  },
  {
   "cell_type": "code",
   "execution_count": 23,
   "metadata": {
    "collapsed": true
   },
   "outputs": [],
   "source": [
    "required = ['keywords',\n",
    "    'category',\n",
    "    'difficulty',\n",
    "    'permalink',\n",
    "    'difficulty_average',\n",
    "    'craft']"
   ]
  },
  {
   "cell_type": "code",
   "execution_count": 6,
   "metadata": {
    "collapsed": true
   },
   "outputs": [],
   "source": [
    "fillna_dict = {'gauge_divisor': 0,\n",
    "    'gauge': 0,\n",
    "    'row_gauge': 0,\n",
    "    'gauge_pattern': 'xxxBonusWordxxx',\n",
    "    'yardage': 0,\n",
    "    'ply': 0}  "
   ]
  },
  {
   "cell_type": "code",
   "execution_count": 24,
   "metadata": {
    "collapsed": true
   },
   "outputs": [],
   "source": [
    "df = filtered_df.dropna(subset=required)"
   ]
  },
  {
   "cell_type": "code",
   "execution_count": 25,
   "metadata": {
    "collapsed": true
   },
   "outputs": [],
   "source": [
    "df = df.fillna(fillna_dict)"
   ]
  },
  {
   "cell_type": "code",
   "execution_count": 26,
   "metadata": {
    "collapsed": false
   },
   "outputs": [
    {
     "data": {
      "text/plain": [
       "Index([u'pattern_id', u'keywords', u'category', u'difficulty', u'permalink',\n",
       "       u'difficulty_average', u'gauge_divisor', u'gauge', u'row_gauge',\n",
       "       u'gauge_pattern', u'yardage', u'ply', u'craft'],\n",
       "      dtype='object')"
      ]
     },
     "execution_count": 26,
     "metadata": {},
     "output_type": "execute_result"
    }
   ],
   "source": [
    "df.columns"
   ]
  },
  {
   "cell_type": "code",
   "execution_count": 27,
   "metadata": {
    "collapsed": false
   },
   "outputs": [
    {
     "name": "stdout",
     "output_type": "stream",
     "text": [
      "['shawl-wrap', 'pullover', 'cardigan', 'beanie-toque', 'scarf']\n"
     ]
    }
   ],
   "source": [
    "print([i for i in df.category.value_counts()[0:5].index])"
   ]
  },
  {
   "cell_type": "markdown",
   "metadata": {},
   "source": [
    "## Transforming the data"
   ]
  },
  {
   "cell_type": "markdown",
   "metadata": {},
   "source": [
    "Here I'm importing a few helper methods I wrote to make the data transformation a bit easier. They let me define all the transformations I want in a simple dictionary, and then pass that to the transformer to work on. I wrote this stuff a while ago, so it's not my best work, but it gets the job done."
   ]
  },
  {
   "cell_type": "code",
   "execution_count": 2,
   "metadata": {
    "collapsed": true
   },
   "outputs": [],
   "source": [
    "from util.data_transformation_helpers import *"
   ]
  },
  {
   "cell_type": "code",
   "execution_count": 28,
   "metadata": {
    "collapsed": true
   },
   "outputs": [],
   "source": [
    "transformers = {\n",
    "    'bag of words': NameGettingPipeline([('vectoriser', CountVectorizer(min_df=0.002, max_df=0.2, stop_words='english')), \n",
    "                              ('weighting', TfidfTransformer())\n",
    "                                        ]),\n",
    "    'keyword list': NameGettingPipeline([('vectoriser', CountVectorizer(tokenizer=lambda x: x.split('|'))), \n",
    "                              ('weighting', TfidfTransformer())]),\n",
    "    'minmax': MinMaxWrapper(),\n",
    "    'one-hot': OneHotWrapper()\n",
    "}"
   ]
  },
  {
   "cell_type": "markdown",
   "metadata": {},
   "source": [
    "Here's the dictionary which describes how I'm transforming the data. A \"keyword list\" is basically turning each word in the list into a seperate column, \"minmax\" is scaling numeric values to be between 0 and 1, \"one-hot\" is turning a categorical column into seperate columns, and \"bag of words\" is extracting important words from free text.\n",
    "\n",
    "The numbers that follow are the \"weights\" for each column. The transformers ensure that every column has a value between 1 and 0, and then they are mutiplied by the weight to arrive at a final value."
   ]
  },
  {
   "cell_type": "code",
   "execution_count": 29,
   "metadata": {
    "collapsed": true
   },
   "outputs": [],
   "source": [
    "data_transform = [\n",
    "    ('keywords', 'keyword list', 1),\n",
    "    ('category', 'keyword list', 2),\n",
    "    ('difficulty', 'minmax', 2),\n",
    "    ('ply', 'minmax', 3),\n",
    "    ('gauge', 'minmax', 1),\n",
    "    ('yardage', 'minmax', 1),\n",
    "    ('craft', 'one-hot', 4),\n",
    "    ('gauge_pattern', 'bag of words', 1)\n",
    "]"
   ]
  },
  {
   "cell_type": "code",
   "execution_count": 30,
   "metadata": {
    "collapsed": true
   },
   "outputs": [],
   "source": [
    "transform_set = [(column, NameGettingPipeline([(\n",
    "                    'selector', ItemSelector(column)), \n",
    "                ('transformer', deepcopy(transformers[transform_type]))\n",
    "                   ]))  for column, transform_type, weight in data_transform]"
   ]
  },
  {
   "cell_type": "code",
   "execution_count": 31,
   "metadata": {
    "collapsed": true
   },
   "outputs": [],
   "source": [
    "weights = {column: weight for column, transform_type, weight in data_transform}\n",
    "\n",
    "fu = FeatureUnion(transform_set, transformer_weights=weights)"
   ]
  },
  {
   "cell_type": "code",
   "execution_count": 32,
   "metadata": {
    "collapsed": false
   },
   "outputs": [
    {
     "data": {
      "text/plain": [
       "FeatureUnion(n_jobs=1,\n",
       "       transformer_list=[('keywords', NameGettingPipeline(steps=[('selector', <util.data_transformation_helpers.ItemSelector object at 0x12c340b10>), ('transformer', NameGettingPipeline(steps=[('vectoriser', CountVectorizer(analyzer=u'word', binary=False, decode_error=u'strict',\n",
       "        dtype=<type 'numpy....g', TfidfTransformer(norm=u'l2', smooth_idf=True, sublinear_tf=False,\n",
       "         use_idf=True))]))]))],\n",
       "       transformer_weights={'category': 2, 'yardage': 1, 'gauge_pattern': 1, 'difficulty': 2, 'craft': 4, 'gauge': 1, 'ply': 3, 'keywords': 1})"
      ]
     },
     "execution_count": 32,
     "metadata": {},
     "output_type": "execute_result"
    }
   ],
   "source": [
    "\n",
    "fu.fit(df)"
   ]
  },
  {
   "cell_type": "code",
   "execution_count": 33,
   "metadata": {
    "collapsed": false
   },
   "outputs": [],
   "source": [
    "features = fu.transform(df)"
   ]
  },
  {
   "cell_type": "code",
   "execution_count": 35,
   "metadata": {
    "collapsed": true
   },
   "outputs": [],
   "source": [
    "target = list(df.permalink).index('mr-dangly')"
   ]
  },
  {
   "cell_type": "code",
   "execution_count": 40,
   "metadata": {
    "collapsed": false
   },
   "outputs": [
    {
     "data": {
      "text/plain": [
       "pattern_id                                                 3150\n",
       "keywords              fringe|seamed|written-pattern|worked-flat\n",
       "category                                                 animal\n",
       "difficulty                                              2.83824\n",
       "permalink                                             mr-dangly\n",
       "difficulty_average                                      2.83824\n",
       "gauge_divisor                                                 0\n",
       "gauge                                                         0\n",
       "row_gauge                                                     0\n",
       "gauge_pattern                                   xxxBonusWordxxx\n",
       "yardage                                                       0\n",
       "ply                                                           0\n",
       "craft                                                  knitting\n",
       "Name: 505, dtype: object"
      ]
     },
     "execution_count": 40,
     "metadata": {},
     "output_type": "execute_result"
    }
   ],
   "source": [
    "df.iloc[target]"
   ]
  },
  {
   "cell_type": "code",
   "execution_count": 41,
   "metadata": {
    "collapsed": true
   },
   "outputs": [],
   "source": [
    "def get_closest_n(target, matrix, n):\n",
    "    distances = pd.Series([i[0] for i in pairwise_distances(features, features[target])])\n",
    "    return distances.argsort()[:n]"
   ]
  },
  {
   "cell_type": "code",
   "execution_count": 42,
   "metadata": {
    "collapsed": false
   },
   "outputs": [
    {
     "data": {
      "text/html": [
       "<div>\n",
       "<table border=\"1\" class=\"dataframe\">\n",
       "  <thead>\n",
       "    <tr style=\"text-align: right;\">\n",
       "      <th></th>\n",
       "      <th>pattern_id</th>\n",
       "      <th>keywords</th>\n",
       "      <th>category</th>\n",
       "      <th>difficulty</th>\n",
       "      <th>permalink</th>\n",
       "      <th>difficulty_average</th>\n",
       "      <th>gauge_divisor</th>\n",
       "      <th>gauge</th>\n",
       "      <th>row_gauge</th>\n",
       "      <th>gauge_pattern</th>\n",
       "      <th>yardage</th>\n",
       "      <th>ply</th>\n",
       "      <th>craft</th>\n",
       "    </tr>\n",
       "  </thead>\n",
       "  <tbody>\n",
       "    <tr>\n",
       "      <th>505</th>\n",
       "      <td>3150</td>\n",
       "      <td>fringe|seamed|written-pattern|worked-flat</td>\n",
       "      <td>animal</td>\n",
       "      <td>2.838235</td>\n",
       "      <td>mr-dangly</td>\n",
       "      <td>2.838235</td>\n",
       "      <td>0.0</td>\n",
       "      <td>0.0</td>\n",
       "      <td>0.0</td>\n",
       "      <td>xxxBonusWordxxx</td>\n",
       "      <td>0.0</td>\n",
       "      <td>0.0</td>\n",
       "      <td>knitting</td>\n",
       "    </tr>\n",
       "    <tr>\n",
       "      <th>22137</th>\n",
       "      <td>169279</td>\n",
       "      <td>fringe|seamed|amigurumi|3-dimensional|written-...</td>\n",
       "      <td>animal</td>\n",
       "      <td>2.000000</td>\n",
       "      <td>spring-collection</td>\n",
       "      <td>2.000000</td>\n",
       "      <td>1.0</td>\n",
       "      <td>7.0</td>\n",
       "      <td>9.0</td>\n",
       "      <td>xxxBonusWordxxx</td>\n",
       "      <td>0.0</td>\n",
       "      <td>0.0</td>\n",
       "      <td>knitting</td>\n",
       "    </tr>\n",
       "    <tr>\n",
       "      <th>224579</th>\n",
       "      <td>179532</td>\n",
       "      <td>seamed|written-pattern|worked-flat</td>\n",
       "      <td>animal</td>\n",
       "      <td>1.857143</td>\n",
       "      <td>spring-lambs</td>\n",
       "      <td>1.857143</td>\n",
       "      <td>0.0</td>\n",
       "      <td>0.0</td>\n",
       "      <td>0.0</td>\n",
       "      <td>xxxBonusWordxxx</td>\n",
       "      <td>0.0</td>\n",
       "      <td>0.0</td>\n",
       "      <td>knitting</td>\n",
       "    </tr>\n",
       "    <tr>\n",
       "      <th>55869</th>\n",
       "      <td>521500</td>\n",
       "      <td>seamed|written-pattern|worked-flat</td>\n",
       "      <td>animal</td>\n",
       "      <td>1.750000</td>\n",
       "      <td>pocket-fox</td>\n",
       "      <td>1.750000</td>\n",
       "      <td>4.0</td>\n",
       "      <td>0.0</td>\n",
       "      <td>0.0</td>\n",
       "      <td>xxxBonusWordxxx</td>\n",
       "      <td>0.0</td>\n",
       "      <td>0.0</td>\n",
       "      <td>knitting</td>\n",
       "    </tr>\n",
       "    <tr>\n",
       "      <th>207269</th>\n",
       "      <td>1253</td>\n",
       "      <td>felted|in-the-round|fringe|one-piece|seamless|...</td>\n",
       "      <td>animal</td>\n",
       "      <td>1.571429</td>\n",
       "      <td>jellyfishin</td>\n",
       "      <td>1.571429</td>\n",
       "      <td>0.0</td>\n",
       "      <td>0.0</td>\n",
       "      <td>0.0</td>\n",
       "      <td>xxxBonusWordxxx</td>\n",
       "      <td>54.0</td>\n",
       "      <td>0.0</td>\n",
       "      <td>knitting</td>\n",
       "    </tr>\n",
       "    <tr>\n",
       "      <th>60124</th>\n",
       "      <td>33254</td>\n",
       "      <td>seamed|written-pattern|worked-flat</td>\n",
       "      <td>animal</td>\n",
       "      <td>1.500000</td>\n",
       "      <td>knitted-kitten</td>\n",
       "      <td>1.500000</td>\n",
       "      <td>0.0</td>\n",
       "      <td>0.0</td>\n",
       "      <td>0.0</td>\n",
       "      <td>xxxBonusWordxxx</td>\n",
       "      <td>0.0</td>\n",
       "      <td>0.0</td>\n",
       "      <td>knitting</td>\n",
       "    </tr>\n",
       "    <tr>\n",
       "      <th>511</th>\n",
       "      <td>3208</td>\n",
       "      <td>seamed|written-pattern|worked-flat</td>\n",
       "      <td>animal</td>\n",
       "      <td>3.090909</td>\n",
       "      <td>snoozing-ned</td>\n",
       "      <td>3.090909</td>\n",
       "      <td>4.0</td>\n",
       "      <td>28.0</td>\n",
       "      <td>36.0</td>\n",
       "      <td>xxxBonusWordxxx</td>\n",
       "      <td>0.0</td>\n",
       "      <td>0.0</td>\n",
       "      <td>knitting</td>\n",
       "    </tr>\n",
       "    <tr>\n",
       "      <th>253387</th>\n",
       "      <td>54441</td>\n",
       "      <td>fringe|seamed|written-pattern|worked-flat</td>\n",
       "      <td>animal</td>\n",
       "      <td>4.315789</td>\n",
       "      <td>leo-the-lion-3</td>\n",
       "      <td>4.315789</td>\n",
       "      <td>0.0</td>\n",
       "      <td>0.0</td>\n",
       "      <td>0.0</td>\n",
       "      <td>xxxBonusWordxxx</td>\n",
       "      <td>0.0</td>\n",
       "      <td>4.0</td>\n",
       "      <td>knitting</td>\n",
       "    </tr>\n",
       "    <tr>\n",
       "      <th>223101</th>\n",
       "      <td>688076</td>\n",
       "      <td>seamed|written-pattern</td>\n",
       "      <td>animal</td>\n",
       "      <td>3.000000</td>\n",
       "      <td>toys-from-the-toybox</td>\n",
       "      <td>3.000000</td>\n",
       "      <td>4.0</td>\n",
       "      <td>0.0</td>\n",
       "      <td>0.0</td>\n",
       "      <td>xxxBonusWordxxx</td>\n",
       "      <td>164.0</td>\n",
       "      <td>0.0</td>\n",
       "      <td>knitting</td>\n",
       "    </tr>\n",
       "    <tr>\n",
       "      <th>371434</th>\n",
       "      <td>229623</td>\n",
       "      <td>seamed|written-pattern</td>\n",
       "      <td>animal</td>\n",
       "      <td>2.333333</td>\n",
       "      <td>cats</td>\n",
       "      <td>2.333333</td>\n",
       "      <td>0.0</td>\n",
       "      <td>0.0</td>\n",
       "      <td>0.0</td>\n",
       "      <td>xxxBonusWordxxx</td>\n",
       "      <td>0.0</td>\n",
       "      <td>0.0</td>\n",
       "      <td>knitting</td>\n",
       "    </tr>\n",
       "  </tbody>\n",
       "</table>\n",
       "</div>"
      ],
      "text/plain": [
       "        pattern_id                                           keywords  \\\n",
       "505           3150          fringe|seamed|written-pattern|worked-flat   \n",
       "22137       169279  fringe|seamed|amigurumi|3-dimensional|written-...   \n",
       "224579      179532                 seamed|written-pattern|worked-flat   \n",
       "55869       521500                 seamed|written-pattern|worked-flat   \n",
       "207269        1253  felted|in-the-round|fringe|one-piece|seamless|...   \n",
       "60124        33254                 seamed|written-pattern|worked-flat   \n",
       "511           3208                 seamed|written-pattern|worked-flat   \n",
       "253387       54441          fringe|seamed|written-pattern|worked-flat   \n",
       "223101      688076                             seamed|written-pattern   \n",
       "371434      229623                             seamed|written-pattern   \n",
       "\n",
       "       category  difficulty             permalink  difficulty_average  \\\n",
       "505      animal    2.838235             mr-dangly            2.838235   \n",
       "22137    animal    2.000000     spring-collection            2.000000   \n",
       "224579   animal    1.857143          spring-lambs            1.857143   \n",
       "55869    animal    1.750000            pocket-fox            1.750000   \n",
       "207269   animal    1.571429           jellyfishin            1.571429   \n",
       "60124    animal    1.500000        knitted-kitten            1.500000   \n",
       "511      animal    3.090909          snoozing-ned            3.090909   \n",
       "253387   animal    4.315789        leo-the-lion-3            4.315789   \n",
       "223101   animal    3.000000  toys-from-the-toybox            3.000000   \n",
       "371434   animal    2.333333                  cats            2.333333   \n",
       "\n",
       "        gauge_divisor  gauge  row_gauge    gauge_pattern  yardage  ply  \\\n",
       "505               0.0    0.0        0.0  xxxBonusWordxxx      0.0  0.0   \n",
       "22137             1.0    7.0        9.0  xxxBonusWordxxx      0.0  0.0   \n",
       "224579            0.0    0.0        0.0  xxxBonusWordxxx      0.0  0.0   \n",
       "55869             4.0    0.0        0.0  xxxBonusWordxxx      0.0  0.0   \n",
       "207269            0.0    0.0        0.0  xxxBonusWordxxx     54.0  0.0   \n",
       "60124             0.0    0.0        0.0  xxxBonusWordxxx      0.0  0.0   \n",
       "511               4.0   28.0       36.0  xxxBonusWordxxx      0.0  0.0   \n",
       "253387            0.0    0.0        0.0  xxxBonusWordxxx      0.0  4.0   \n",
       "223101            4.0    0.0        0.0  xxxBonusWordxxx    164.0  0.0   \n",
       "371434            0.0    0.0        0.0  xxxBonusWordxxx      0.0  0.0   \n",
       "\n",
       "           craft  \n",
       "505     knitting  \n",
       "22137   knitting  \n",
       "224579  knitting  \n",
       "55869   knitting  \n",
       "207269  knitting  \n",
       "60124   knitting  \n",
       "511     knitting  \n",
       "253387  knitting  \n",
       "223101  knitting  \n",
       "371434  knitting  "
      ]
     },
     "execution_count": 42,
     "metadata": {},
     "output_type": "execute_result"
    }
   ],
   "source": [
    "df.iloc[get_closest_n(target, features, 10)]"
   ]
  },
  {
   "cell_type": "code",
   "execution_count": null,
   "metadata": {
    "collapsed": true
   },
   "outputs": [],
   "source": []
  }
 ],
 "metadata": {
  "kernelspec": {
   "display_name": "Python 2",
   "language": "python",
   "name": "python2"
  },
  "language_info": {
   "codemirror_mode": {
    "name": "ipython",
    "version": 2
   },
   "file_extension": ".py",
   "mimetype": "text/x-python",
   "name": "python",
   "nbconvert_exporter": "python",
   "pygments_lexer": "ipython2",
   "version": "2.7.9"
  }
 },
 "nbformat": 4,
 "nbformat_minor": 1
}
